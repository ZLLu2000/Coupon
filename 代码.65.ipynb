{
 "cells": [
  {
   "cell_type": "markdown",
   "id": "ee7613d6",
   "metadata": {},
   "source": [
    "## 一、数据预处理"
   ]
  },
  {
   "cell_type": "markdown",
   "id": "9f8a56ae",
   "metadata": {},
   "source": [
    "### 1、读取数据"
   ]
  },
  {
   "cell_type": "code",
   "execution_count": 175,
   "id": "2723f2ef",
   "metadata": {},
   "outputs": [
    {
     "name": "stdout",
     "output_type": "stream",
     "text": [
      "原始数据条数：12684；\n",
      "原始数据属性字段数：26\n"
     ]
    }
   ],
   "source": [
    "import pandas as pd\n",
    "data = pd.read_csv(r\"数据集.csv\")\n",
    "print(\"原始数据条数：{}；\\n原始数据属性字段数：{}\".format(len(data),len(data.columns)))"
   ]
  },
  {
   "cell_type": "markdown",
   "id": "6f3d4fef",
   "metadata": {},
   "source": [
    "### 2、去除缺失值"
   ]
  },
  {
   "cell_type": "code",
   "execution_count": 176,
   "id": "980a1cf1",
   "metadata": {},
   "outputs": [
    {
     "data": {
      "text/plain": [
       "destination                 0\n",
       "passanger                   0\n",
       "weather                     0\n",
       "temperature                 0\n",
       "time                        0\n",
       "coupon                      0\n",
       "expiration                  0\n",
       "gender                      0\n",
       "age                         0\n",
       "maritalStatus               0\n",
       "has_children                0\n",
       "education                   0\n",
       "occupation                  0\n",
       "income                      0\n",
       "car                     12576\n",
       "Bar                       107\n",
       "CoffeeHouse               217\n",
       "CarryAway                 151\n",
       "RestaurantLessThan20      130\n",
       "Restaurant20To50          189\n",
       "toCoupon_GEQ5min            0\n",
       "toCoupon_GEQ15min           0\n",
       "toCoupon_GEQ25min           0\n",
       "direction_same              0\n",
       "direction_opp               0\n",
       "Y                           0\n",
       "dtype: int64"
      ]
     },
     "execution_count": 176,
     "metadata": {},
     "output_type": "execute_result"
    }
   ],
   "source": [
    "##查看各字段缺失情况\n",
    "data.isnull().sum()"
   ]
  },
  {
   "cell_type": "markdown",
   "id": "96c0f9db",
   "metadata": {},
   "source": [
    "根据数据缺失值情况，选择去除car字段；同时去除Bar、CoffeeHouse、CarryAway、RestaurantLessThan20、Restaurant20To50等字段缺失的记录行。又因toCoupon_GEQ5min字段值全为1，对建模无意义，故也进行删除。"
   ]
  },
  {
   "cell_type": "code",
   "execution_count": 177,
   "id": "681a9000",
   "metadata": {
    "scrolled": true
   },
   "outputs": [
    {
     "data": {
      "text/html": [
       "<div>\n",
       "<style scoped>\n",
       "    .dataframe tbody tr th:only-of-type {\n",
       "        vertical-align: middle;\n",
       "    }\n",
       "\n",
       "    .dataframe tbody tr th {\n",
       "        vertical-align: top;\n",
       "    }\n",
       "\n",
       "    .dataframe thead th {\n",
       "        text-align: right;\n",
       "    }\n",
       "</style>\n",
       "<table border=\"1\" class=\"dataframe\">\n",
       "  <thead>\n",
       "    <tr style=\"text-align: right;\">\n",
       "      <th></th>\n",
       "      <th>destination</th>\n",
       "      <th>passanger</th>\n",
       "      <th>weather</th>\n",
       "      <th>temperature</th>\n",
       "      <th>time</th>\n",
       "      <th>coupon</th>\n",
       "      <th>expiration</th>\n",
       "      <th>gender</th>\n",
       "      <th>age</th>\n",
       "      <th>maritalStatus</th>\n",
       "      <th>...</th>\n",
       "      <th>Bar</th>\n",
       "      <th>CoffeeHouse</th>\n",
       "      <th>CarryAway</th>\n",
       "      <th>RestaurantLessThan20</th>\n",
       "      <th>Restaurant20To50</th>\n",
       "      <th>toCoupon_GEQ15min</th>\n",
       "      <th>toCoupon_GEQ25min</th>\n",
       "      <th>direction_same</th>\n",
       "      <th>direction_opp</th>\n",
       "      <th>Y</th>\n",
       "    </tr>\n",
       "  </thead>\n",
       "  <tbody>\n",
       "    <tr>\n",
       "      <th>0</th>\n",
       "      <td>No Urgent Place</td>\n",
       "      <td>Alone</td>\n",
       "      <td>Sunny</td>\n",
       "      <td>55</td>\n",
       "      <td>2PM</td>\n",
       "      <td>Restaurant(&lt;20)</td>\n",
       "      <td>1d</td>\n",
       "      <td>Male</td>\n",
       "      <td>21</td>\n",
       "      <td>Single</td>\n",
       "      <td>...</td>\n",
       "      <td>never</td>\n",
       "      <td>less1</td>\n",
       "      <td>4~8</td>\n",
       "      <td>4~8</td>\n",
       "      <td>less1</td>\n",
       "      <td>0</td>\n",
       "      <td>0</td>\n",
       "      <td>0</td>\n",
       "      <td>1</td>\n",
       "      <td>1</td>\n",
       "    </tr>\n",
       "    <tr>\n",
       "      <th>1</th>\n",
       "      <td>No Urgent Place</td>\n",
       "      <td>Friend(s)</td>\n",
       "      <td>Sunny</td>\n",
       "      <td>80</td>\n",
       "      <td>10AM</td>\n",
       "      <td>Coffee House</td>\n",
       "      <td>2h</td>\n",
       "      <td>Male</td>\n",
       "      <td>21</td>\n",
       "      <td>Single</td>\n",
       "      <td>...</td>\n",
       "      <td>never</td>\n",
       "      <td>less1</td>\n",
       "      <td>4~8</td>\n",
       "      <td>4~8</td>\n",
       "      <td>less1</td>\n",
       "      <td>0</td>\n",
       "      <td>0</td>\n",
       "      <td>0</td>\n",
       "      <td>1</td>\n",
       "      <td>0</td>\n",
       "    </tr>\n",
       "    <tr>\n",
       "      <th>2</th>\n",
       "      <td>No Urgent Place</td>\n",
       "      <td>Friend(s)</td>\n",
       "      <td>Sunny</td>\n",
       "      <td>80</td>\n",
       "      <td>10AM</td>\n",
       "      <td>Bar</td>\n",
       "      <td>1d</td>\n",
       "      <td>Male</td>\n",
       "      <td>21</td>\n",
       "      <td>Single</td>\n",
       "      <td>...</td>\n",
       "      <td>never</td>\n",
       "      <td>less1</td>\n",
       "      <td>4~8</td>\n",
       "      <td>4~8</td>\n",
       "      <td>less1</td>\n",
       "      <td>0</td>\n",
       "      <td>0</td>\n",
       "      <td>0</td>\n",
       "      <td>1</td>\n",
       "      <td>1</td>\n",
       "    </tr>\n",
       "    <tr>\n",
       "      <th>3</th>\n",
       "      <td>No Urgent Place</td>\n",
       "      <td>Friend(s)</td>\n",
       "      <td>Sunny</td>\n",
       "      <td>80</td>\n",
       "      <td>10AM</td>\n",
       "      <td>Carry out &amp; Take away</td>\n",
       "      <td>2h</td>\n",
       "      <td>Male</td>\n",
       "      <td>21</td>\n",
       "      <td>Single</td>\n",
       "      <td>...</td>\n",
       "      <td>never</td>\n",
       "      <td>less1</td>\n",
       "      <td>4~8</td>\n",
       "      <td>4~8</td>\n",
       "      <td>less1</td>\n",
       "      <td>1</td>\n",
       "      <td>0</td>\n",
       "      <td>0</td>\n",
       "      <td>1</td>\n",
       "      <td>0</td>\n",
       "    </tr>\n",
       "    <tr>\n",
       "      <th>4</th>\n",
       "      <td>No Urgent Place</td>\n",
       "      <td>Friend(s)</td>\n",
       "      <td>Sunny</td>\n",
       "      <td>80</td>\n",
       "      <td>2PM</td>\n",
       "      <td>Coffee House</td>\n",
       "      <td>1d</td>\n",
       "      <td>Male</td>\n",
       "      <td>21</td>\n",
       "      <td>Single</td>\n",
       "      <td>...</td>\n",
       "      <td>never</td>\n",
       "      <td>less1</td>\n",
       "      <td>4~8</td>\n",
       "      <td>4~8</td>\n",
       "      <td>less1</td>\n",
       "      <td>0</td>\n",
       "      <td>0</td>\n",
       "      <td>0</td>\n",
       "      <td>1</td>\n",
       "      <td>0</td>\n",
       "    </tr>\n",
       "    <tr>\n",
       "      <th>...</th>\n",
       "      <td>...</td>\n",
       "      <td>...</td>\n",
       "      <td>...</td>\n",
       "      <td>...</td>\n",
       "      <td>...</td>\n",
       "      <td>...</td>\n",
       "      <td>...</td>\n",
       "      <td>...</td>\n",
       "      <td>...</td>\n",
       "      <td>...</td>\n",
       "      <td>...</td>\n",
       "      <td>...</td>\n",
       "      <td>...</td>\n",
       "      <td>...</td>\n",
       "      <td>...</td>\n",
       "      <td>...</td>\n",
       "      <td>...</td>\n",
       "      <td>...</td>\n",
       "      <td>...</td>\n",
       "      <td>...</td>\n",
       "      <td>...</td>\n",
       "    </tr>\n",
       "    <tr>\n",
       "      <th>12074</th>\n",
       "      <td>Home</td>\n",
       "      <td>Partner</td>\n",
       "      <td>Rainy</td>\n",
       "      <td>55</td>\n",
       "      <td>6PM</td>\n",
       "      <td>Carry out &amp; Take away</td>\n",
       "      <td>1d</td>\n",
       "      <td>Male</td>\n",
       "      <td>26</td>\n",
       "      <td>Single</td>\n",
       "      <td>...</td>\n",
       "      <td>never</td>\n",
       "      <td>never</td>\n",
       "      <td>1~3</td>\n",
       "      <td>4~8</td>\n",
       "      <td>1~3</td>\n",
       "      <td>0</td>\n",
       "      <td>0</td>\n",
       "      <td>1</td>\n",
       "      <td>0</td>\n",
       "      <td>1</td>\n",
       "    </tr>\n",
       "    <tr>\n",
       "      <th>12075</th>\n",
       "      <td>Work</td>\n",
       "      <td>Alone</td>\n",
       "      <td>Rainy</td>\n",
       "      <td>55</td>\n",
       "      <td>7AM</td>\n",
       "      <td>Carry out &amp; Take away</td>\n",
       "      <td>1d</td>\n",
       "      <td>Male</td>\n",
       "      <td>26</td>\n",
       "      <td>Single</td>\n",
       "      <td>...</td>\n",
       "      <td>never</td>\n",
       "      <td>never</td>\n",
       "      <td>1~3</td>\n",
       "      <td>4~8</td>\n",
       "      <td>1~3</td>\n",
       "      <td>0</td>\n",
       "      <td>0</td>\n",
       "      <td>0</td>\n",
       "      <td>1</td>\n",
       "      <td>1</td>\n",
       "    </tr>\n",
       "    <tr>\n",
       "      <th>12076</th>\n",
       "      <td>Work</td>\n",
       "      <td>Alone</td>\n",
       "      <td>Snowy</td>\n",
       "      <td>30</td>\n",
       "      <td>7AM</td>\n",
       "      <td>Coffee House</td>\n",
       "      <td>1d</td>\n",
       "      <td>Male</td>\n",
       "      <td>26</td>\n",
       "      <td>Single</td>\n",
       "      <td>...</td>\n",
       "      <td>never</td>\n",
       "      <td>never</td>\n",
       "      <td>1~3</td>\n",
       "      <td>4~8</td>\n",
       "      <td>1~3</td>\n",
       "      <td>0</td>\n",
       "      <td>0</td>\n",
       "      <td>1</td>\n",
       "      <td>0</td>\n",
       "      <td>0</td>\n",
       "    </tr>\n",
       "    <tr>\n",
       "      <th>12077</th>\n",
       "      <td>Work</td>\n",
       "      <td>Alone</td>\n",
       "      <td>Snowy</td>\n",
       "      <td>30</td>\n",
       "      <td>7AM</td>\n",
       "      <td>Bar</td>\n",
       "      <td>1d</td>\n",
       "      <td>Male</td>\n",
       "      <td>26</td>\n",
       "      <td>Single</td>\n",
       "      <td>...</td>\n",
       "      <td>never</td>\n",
       "      <td>never</td>\n",
       "      <td>1~3</td>\n",
       "      <td>4~8</td>\n",
       "      <td>1~3</td>\n",
       "      <td>1</td>\n",
       "      <td>1</td>\n",
       "      <td>0</td>\n",
       "      <td>1</td>\n",
       "      <td>0</td>\n",
       "    </tr>\n",
       "    <tr>\n",
       "      <th>12078</th>\n",
       "      <td>Work</td>\n",
       "      <td>Alone</td>\n",
       "      <td>Sunny</td>\n",
       "      <td>80</td>\n",
       "      <td>7AM</td>\n",
       "      <td>Restaurant(20-50)</td>\n",
       "      <td>2h</td>\n",
       "      <td>Male</td>\n",
       "      <td>26</td>\n",
       "      <td>Single</td>\n",
       "      <td>...</td>\n",
       "      <td>never</td>\n",
       "      <td>never</td>\n",
       "      <td>1~3</td>\n",
       "      <td>4~8</td>\n",
       "      <td>1~3</td>\n",
       "      <td>0</td>\n",
       "      <td>0</td>\n",
       "      <td>1</td>\n",
       "      <td>0</td>\n",
       "      <td>0</td>\n",
       "    </tr>\n",
       "  </tbody>\n",
       "</table>\n",
       "<p>12079 rows × 24 columns</p>\n",
       "</div>"
      ],
      "text/plain": [
       "           destination  passanger weather  temperature  time  \\\n",
       "0      No Urgent Place      Alone   Sunny           55   2PM   \n",
       "1      No Urgent Place  Friend(s)   Sunny           80  10AM   \n",
       "2      No Urgent Place  Friend(s)   Sunny           80  10AM   \n",
       "3      No Urgent Place  Friend(s)   Sunny           80  10AM   \n",
       "4      No Urgent Place  Friend(s)   Sunny           80   2PM   \n",
       "...                ...        ...     ...          ...   ...   \n",
       "12074             Home    Partner   Rainy           55   6PM   \n",
       "12075             Work      Alone   Rainy           55   7AM   \n",
       "12076             Work      Alone   Snowy           30   7AM   \n",
       "12077             Work      Alone   Snowy           30   7AM   \n",
       "12078             Work      Alone   Sunny           80   7AM   \n",
       "\n",
       "                      coupon expiration gender age maritalStatus  ...    Bar  \\\n",
       "0            Restaurant(<20)         1d   Male  21        Single  ...  never   \n",
       "1               Coffee House         2h   Male  21        Single  ...  never   \n",
       "2                        Bar         1d   Male  21        Single  ...  never   \n",
       "3      Carry out & Take away         2h   Male  21        Single  ...  never   \n",
       "4               Coffee House         1d   Male  21        Single  ...  never   \n",
       "...                      ...        ...    ...  ..           ...  ...    ...   \n",
       "12074  Carry out & Take away         1d   Male  26        Single  ...  never   \n",
       "12075  Carry out & Take away         1d   Male  26        Single  ...  never   \n",
       "12076           Coffee House         1d   Male  26        Single  ...  never   \n",
       "12077                    Bar         1d   Male  26        Single  ...  never   \n",
       "12078      Restaurant(20-50)         2h   Male  26        Single  ...  never   \n",
       "\n",
       "      CoffeeHouse CarryAway RestaurantLessThan20 Restaurant20To50  \\\n",
       "0           less1       4~8                  4~8            less1   \n",
       "1           less1       4~8                  4~8            less1   \n",
       "2           less1       4~8                  4~8            less1   \n",
       "3           less1       4~8                  4~8            less1   \n",
       "4           less1       4~8                  4~8            less1   \n",
       "...           ...       ...                  ...              ...   \n",
       "12074       never       1~3                  4~8              1~3   \n",
       "12075       never       1~3                  4~8              1~3   \n",
       "12076       never       1~3                  4~8              1~3   \n",
       "12077       never       1~3                  4~8              1~3   \n",
       "12078       never       1~3                  4~8              1~3   \n",
       "\n",
       "      toCoupon_GEQ15min toCoupon_GEQ25min direction_same direction_opp  Y  \n",
       "0                     0                 0              0             1  1  \n",
       "1                     0                 0              0             1  0  \n",
       "2                     0                 0              0             1  1  \n",
       "3                     1                 0              0             1  0  \n",
       "4                     0                 0              0             1  0  \n",
       "...                 ...               ...            ...           ... ..  \n",
       "12074                 0                 0              1             0  1  \n",
       "12075                 0                 0              0             1  1  \n",
       "12076                 0                 0              1             0  0  \n",
       "12077                 1                 1              0             1  0  \n",
       "12078                 0                 0              1             0  0  \n",
       "\n",
       "[12079 rows x 24 columns]"
      ]
     },
     "execution_count": 177,
     "metadata": {},
     "output_type": "execute_result"
    }
   ],
   "source": [
    "cols = data.columns.to_list()\n",
    "cols.remove(\"car\")#去除car字段\n",
    "cols.remove(\"toCoupon_GEQ5min\")#去除toCoupon_GEQ5min字段\n",
    "df = data[cols]\n",
    "df = df.dropna()\n",
    "df = df.reset_index(drop = True)\n",
    "df"
   ]
  },
  {
   "cell_type": "markdown",
   "id": "84492481",
   "metadata": {},
   "source": [
    "### 3、转换非数值型属性"
   ]
  },
  {
   "cell_type": "code",
   "execution_count": 195,
   "id": "451c9183",
   "metadata": {},
   "outputs": [],
   "source": [
    "destination = [\"No Urgent Place\",\"Home\",\"Work\"]#目的地\n",
    "passanger = [\"Alone\",\"Friend(s)\",\"Kid(s)\",\"Partner\"]#乘客\n",
    "weather = [\"Sunny\",\"Rainy\",\"Snowy\"]#天气\n",
    "temperature = [30,50,80]#温度\n",
    "time = [\"7AM\",\"10AM\",\"2PM\",\"6PM\",\"10PM\"]#时间\n",
    "coupon = ['Restaurant(<20)','Restaurant(20-50)','Coffee House','Carry out & Take away','Bar']#优惠券\n",
    "expiration = ['2h','1d']#过期\n",
    "gender = [\"Female\",\"Male\"]#性别\n",
    "age = ['below21','21','26','31','36','41','46','50plus']#年龄\n",
    "maritalStatus = ['Single','Unmarried partner','Married partner','Divorced','Widowed']#婚姻状况\n",
    "has_children = [0,1]#是否有小孩\n",
    "education = ['Some High School','High School Graduate','Some college - no degree','Associates degree',\n",
    "            'Bachelors degree','Graduate degree (Masters or Doctorate)']#学历\n",
    "occupation = ['Unemployed','Architecture & Engineering','Student','Education&Training&Library','Healthcare Support',\n",
    "              'Healthcare Practitioners & Technical','Sales & Related','Management','Arts Design Entertainment Sports & Media',\n",
    "              'Computer & Mathematical','Life Physical Social Science','Personal Care & Service','Community & Social Services',\n",
    "              'Office & Administrative Support','Construction & Extraction','Legal','Retired','Installation Maintenance & Repair',\n",
    "              'Transportation & Material Moving','Business & Financial','Protective Service','Food Preparation & Serving Related',\n",
    "              'Production Occupations','Building & Grounds Cleaning & Maintenance','Farming Fishing & Forestry']#职业\n",
    "income = ['Less than $12500','$12500 - $24999','$25000 - $37499','$37500 - $49999','$50000 - $62499','$62500 - $74999',\n",
    "         '$75000 - $87499','$87500 - $99999','$100000 or More']#收入\n",
    "Bar = ['never','less1','1~3','4~8','gt8']\n",
    "CoffeeHouse = ['never','less1','1~3','4~8','gt8']\n",
    "CarryAway = ['never','less1','1~3','4~8','gt8']\n",
    "RestaurantLessThan20 = ['never','less1','1~3','4~8','gt8']\n",
    "Restaurant20To50 = ['never','less1','1~3','4~8','gt8']\n",
    "#toCoupon_GEQ5min = [1]\n",
    "toCoupon_GEQ15min = [0,1]\n",
    "toCoupon_GEQ25min = [0,1]\n",
    "direction_same = [0,1]\n",
    "direction_opp = [0,1]\n",
    "Y = [0,1]\n",
    "Li = [destination,passanger,weather,temperature,time,coupon,expiration,gender,age,maritalStatus,has_children,education,\n",
    "      occupation,income,Bar,CoffeeHouse,CarryAway,RestaurantLessThan20,Restaurant20To50,toCoupon_GEQ15min,\n",
    "      toCoupon_GEQ25min,direction_same,direction_opp,Y]\n"
   ]
  },
  {
   "cell_type": "markdown",
   "id": "f5391c44",
   "metadata": {},
   "source": [
    "根据上述各字段列表，将原始数据非数值字段内容替换为该字段列表对应内容的索引值"
   ]
  },
  {
   "cell_type": "code",
   "execution_count": 179,
   "id": "f70a8f85",
   "metadata": {},
   "outputs": [
    {
     "data": {
      "text/html": [
       "<div>\n",
       "<style scoped>\n",
       "    .dataframe tbody tr th:only-of-type {\n",
       "        vertical-align: middle;\n",
       "    }\n",
       "\n",
       "    .dataframe tbody tr th {\n",
       "        vertical-align: top;\n",
       "    }\n",
       "\n",
       "    .dataframe thead th {\n",
       "        text-align: right;\n",
       "    }\n",
       "</style>\n",
       "<table border=\"1\" class=\"dataframe\">\n",
       "  <thead>\n",
       "    <tr style=\"text-align: right;\">\n",
       "      <th></th>\n",
       "      <th>destination</th>\n",
       "      <th>passanger</th>\n",
       "      <th>weather</th>\n",
       "      <th>temperature</th>\n",
       "      <th>time</th>\n",
       "      <th>coupon</th>\n",
       "      <th>expiration</th>\n",
       "      <th>gender</th>\n",
       "      <th>age</th>\n",
       "      <th>maritalStatus</th>\n",
       "      <th>...</th>\n",
       "      <th>Bar</th>\n",
       "      <th>CoffeeHouse</th>\n",
       "      <th>CarryAway</th>\n",
       "      <th>RestaurantLessThan20</th>\n",
       "      <th>Restaurant20To50</th>\n",
       "      <th>toCoupon_GEQ15min</th>\n",
       "      <th>toCoupon_GEQ25min</th>\n",
       "      <th>direction_same</th>\n",
       "      <th>direction_opp</th>\n",
       "      <th>Y</th>\n",
       "    </tr>\n",
       "  </thead>\n",
       "  <tbody>\n",
       "    <tr>\n",
       "      <th>0</th>\n",
       "      <td>0</td>\n",
       "      <td>0</td>\n",
       "      <td>0</td>\n",
       "      <td>55</td>\n",
       "      <td>2</td>\n",
       "      <td>0</td>\n",
       "      <td>1</td>\n",
       "      <td>1</td>\n",
       "      <td>1</td>\n",
       "      <td>0</td>\n",
       "      <td>...</td>\n",
       "      <td>0</td>\n",
       "      <td>1</td>\n",
       "      <td>3</td>\n",
       "      <td>3</td>\n",
       "      <td>1</td>\n",
       "      <td>0</td>\n",
       "      <td>0</td>\n",
       "      <td>0</td>\n",
       "      <td>1</td>\n",
       "      <td>1</td>\n",
       "    </tr>\n",
       "    <tr>\n",
       "      <th>1</th>\n",
       "      <td>0</td>\n",
       "      <td>1</td>\n",
       "      <td>0</td>\n",
       "      <td>80</td>\n",
       "      <td>1</td>\n",
       "      <td>2</td>\n",
       "      <td>0</td>\n",
       "      <td>1</td>\n",
       "      <td>1</td>\n",
       "      <td>0</td>\n",
       "      <td>...</td>\n",
       "      <td>0</td>\n",
       "      <td>1</td>\n",
       "      <td>3</td>\n",
       "      <td>3</td>\n",
       "      <td>1</td>\n",
       "      <td>0</td>\n",
       "      <td>0</td>\n",
       "      <td>0</td>\n",
       "      <td>1</td>\n",
       "      <td>0</td>\n",
       "    </tr>\n",
       "    <tr>\n",
       "      <th>2</th>\n",
       "      <td>0</td>\n",
       "      <td>1</td>\n",
       "      <td>0</td>\n",
       "      <td>80</td>\n",
       "      <td>1</td>\n",
       "      <td>4</td>\n",
       "      <td>1</td>\n",
       "      <td>1</td>\n",
       "      <td>1</td>\n",
       "      <td>0</td>\n",
       "      <td>...</td>\n",
       "      <td>0</td>\n",
       "      <td>1</td>\n",
       "      <td>3</td>\n",
       "      <td>3</td>\n",
       "      <td>1</td>\n",
       "      <td>0</td>\n",
       "      <td>0</td>\n",
       "      <td>0</td>\n",
       "      <td>1</td>\n",
       "      <td>1</td>\n",
       "    </tr>\n",
       "    <tr>\n",
       "      <th>3</th>\n",
       "      <td>0</td>\n",
       "      <td>1</td>\n",
       "      <td>0</td>\n",
       "      <td>80</td>\n",
       "      <td>1</td>\n",
       "      <td>3</td>\n",
       "      <td>0</td>\n",
       "      <td>1</td>\n",
       "      <td>1</td>\n",
       "      <td>0</td>\n",
       "      <td>...</td>\n",
       "      <td>0</td>\n",
       "      <td>1</td>\n",
       "      <td>3</td>\n",
       "      <td>3</td>\n",
       "      <td>1</td>\n",
       "      <td>1</td>\n",
       "      <td>0</td>\n",
       "      <td>0</td>\n",
       "      <td>1</td>\n",
       "      <td>0</td>\n",
       "    </tr>\n",
       "    <tr>\n",
       "      <th>4</th>\n",
       "      <td>0</td>\n",
       "      <td>1</td>\n",
       "      <td>0</td>\n",
       "      <td>80</td>\n",
       "      <td>2</td>\n",
       "      <td>2</td>\n",
       "      <td>1</td>\n",
       "      <td>1</td>\n",
       "      <td>1</td>\n",
       "      <td>0</td>\n",
       "      <td>...</td>\n",
       "      <td>0</td>\n",
       "      <td>1</td>\n",
       "      <td>3</td>\n",
       "      <td>3</td>\n",
       "      <td>1</td>\n",
       "      <td>0</td>\n",
       "      <td>0</td>\n",
       "      <td>0</td>\n",
       "      <td>1</td>\n",
       "      <td>0</td>\n",
       "    </tr>\n",
       "  </tbody>\n",
       "</table>\n",
       "<p>5 rows × 24 columns</p>\n",
       "</div>"
      ],
      "text/plain": [
       "  destination passanger weather  temperature time coupon expiration gender  \\\n",
       "0           0         0       0           55    2      0          1      1   \n",
       "1           0         1       0           80    1      2          0      1   \n",
       "2           0         1       0           80    1      4          1      1   \n",
       "3           0         1       0           80    1      3          0      1   \n",
       "4           0         1       0           80    2      2          1      1   \n",
       "\n",
       "  age maritalStatus  ...  Bar CoffeeHouse CarryAway RestaurantLessThan20  \\\n",
       "0   1             0  ...    0           1         3                    3   \n",
       "1   1             0  ...    0           1         3                    3   \n",
       "2   1             0  ...    0           1         3                    3   \n",
       "3   1             0  ...    0           1         3                    3   \n",
       "4   1             0  ...    0           1         3                    3   \n",
       "\n",
       "  Restaurant20To50 toCoupon_GEQ15min toCoupon_GEQ25min direction_same  \\\n",
       "0                1                 0                 0              0   \n",
       "1                1                 0                 0              0   \n",
       "2                1                 0                 0              0   \n",
       "3                1                 1                 0              0   \n",
       "4                1                 0                 0              0   \n",
       "\n",
       "  direction_opp  Y  \n",
       "0             1  1  \n",
       "1             1  0  \n",
       "2             1  1  \n",
       "3             1  0  \n",
       "4             1  0  \n",
       "\n",
       "[5 rows x 24 columns]"
      ]
     },
     "execution_count": 179,
     "metadata": {},
     "output_type": "execute_result"
    }
   ],
   "source": [
    "for index in df.index:\n",
    "    for c in range(24):#25字段\n",
    "        if c not in [3,10,19,20,21,22,23]:\n",
    "            \n",
    "            df.iloc[index,c] = Li[c].index(df.iloc[index,c])\n",
    "        else:\n",
    "            pass\n",
    "df.head(5)"
   ]
  },
  {
   "cell_type": "markdown",
   "id": "d455a43d",
   "metadata": {},
   "source": [
    "### 4、保存处理后数据"
   ]
  },
  {
   "cell_type": "code",
   "execution_count": 180,
   "id": "64cc613e",
   "metadata": {},
   "outputs": [],
   "source": [
    "df.to_csv(r\"处理后数据.csv\",encoding=\"utf-8-sig\")"
   ]
  },
  {
   "cell_type": "markdown",
   "id": "e31657b5",
   "metadata": {},
   "source": [
    "## 二、字段筛选"
   ]
  },
  {
   "cell_type": "markdown",
   "id": "5c82fba0",
   "metadata": {},
   "source": [
    "### 1、数据归一化"
   ]
  },
  {
   "cell_type": "code",
   "execution_count": 181,
   "id": "ede6fd1a",
   "metadata": {},
   "outputs": [
    {
     "data": {
      "text/html": [
       "<div>\n",
       "<style scoped>\n",
       "    .dataframe tbody tr th:only-of-type {\n",
       "        vertical-align: middle;\n",
       "    }\n",
       "\n",
       "    .dataframe tbody tr th {\n",
       "        vertical-align: top;\n",
       "    }\n",
       "\n",
       "    .dataframe thead th {\n",
       "        text-align: right;\n",
       "    }\n",
       "</style>\n",
       "<table border=\"1\" class=\"dataframe\">\n",
       "  <thead>\n",
       "    <tr style=\"text-align: right;\">\n",
       "      <th></th>\n",
       "      <th>destination</th>\n",
       "      <th>passanger</th>\n",
       "      <th>weather</th>\n",
       "      <th>temperature</th>\n",
       "      <th>time</th>\n",
       "      <th>coupon</th>\n",
       "      <th>expiration</th>\n",
       "      <th>gender</th>\n",
       "      <th>age</th>\n",
       "      <th>maritalStatus</th>\n",
       "      <th>...</th>\n",
       "      <th>Bar</th>\n",
       "      <th>CoffeeHouse</th>\n",
       "      <th>CarryAway</th>\n",
       "      <th>RestaurantLessThan20</th>\n",
       "      <th>Restaurant20To50</th>\n",
       "      <th>toCoupon_GEQ15min</th>\n",
       "      <th>toCoupon_GEQ25min</th>\n",
       "      <th>direction_same</th>\n",
       "      <th>direction_opp</th>\n",
       "      <th>Y</th>\n",
       "    </tr>\n",
       "  </thead>\n",
       "  <tbody>\n",
       "    <tr>\n",
       "      <th>0</th>\n",
       "      <td>0.0</td>\n",
       "      <td>0.000000</td>\n",
       "      <td>0.0</td>\n",
       "      <td>0.5</td>\n",
       "      <td>0.50</td>\n",
       "      <td>0.00</td>\n",
       "      <td>1.0</td>\n",
       "      <td>1.0</td>\n",
       "      <td>0.142857</td>\n",
       "      <td>0.0</td>\n",
       "      <td>...</td>\n",
       "      <td>0.0</td>\n",
       "      <td>0.25</td>\n",
       "      <td>0.75</td>\n",
       "      <td>0.75</td>\n",
       "      <td>0.25</td>\n",
       "      <td>0.0</td>\n",
       "      <td>0.0</td>\n",
       "      <td>0.0</td>\n",
       "      <td>1.0</td>\n",
       "      <td>1.0</td>\n",
       "    </tr>\n",
       "    <tr>\n",
       "      <th>1</th>\n",
       "      <td>0.0</td>\n",
       "      <td>0.333333</td>\n",
       "      <td>0.0</td>\n",
       "      <td>1.0</td>\n",
       "      <td>0.25</td>\n",
       "      <td>0.50</td>\n",
       "      <td>0.0</td>\n",
       "      <td>1.0</td>\n",
       "      <td>0.142857</td>\n",
       "      <td>0.0</td>\n",
       "      <td>...</td>\n",
       "      <td>0.0</td>\n",
       "      <td>0.25</td>\n",
       "      <td>0.75</td>\n",
       "      <td>0.75</td>\n",
       "      <td>0.25</td>\n",
       "      <td>0.0</td>\n",
       "      <td>0.0</td>\n",
       "      <td>0.0</td>\n",
       "      <td>1.0</td>\n",
       "      <td>0.0</td>\n",
       "    </tr>\n",
       "    <tr>\n",
       "      <th>2</th>\n",
       "      <td>0.0</td>\n",
       "      <td>0.333333</td>\n",
       "      <td>0.0</td>\n",
       "      <td>1.0</td>\n",
       "      <td>0.25</td>\n",
       "      <td>1.00</td>\n",
       "      <td>1.0</td>\n",
       "      <td>1.0</td>\n",
       "      <td>0.142857</td>\n",
       "      <td>0.0</td>\n",
       "      <td>...</td>\n",
       "      <td>0.0</td>\n",
       "      <td>0.25</td>\n",
       "      <td>0.75</td>\n",
       "      <td>0.75</td>\n",
       "      <td>0.25</td>\n",
       "      <td>0.0</td>\n",
       "      <td>0.0</td>\n",
       "      <td>0.0</td>\n",
       "      <td>1.0</td>\n",
       "      <td>1.0</td>\n",
       "    </tr>\n",
       "    <tr>\n",
       "      <th>3</th>\n",
       "      <td>0.0</td>\n",
       "      <td>0.333333</td>\n",
       "      <td>0.0</td>\n",
       "      <td>1.0</td>\n",
       "      <td>0.25</td>\n",
       "      <td>0.75</td>\n",
       "      <td>0.0</td>\n",
       "      <td>1.0</td>\n",
       "      <td>0.142857</td>\n",
       "      <td>0.0</td>\n",
       "      <td>...</td>\n",
       "      <td>0.0</td>\n",
       "      <td>0.25</td>\n",
       "      <td>0.75</td>\n",
       "      <td>0.75</td>\n",
       "      <td>0.25</td>\n",
       "      <td>1.0</td>\n",
       "      <td>0.0</td>\n",
       "      <td>0.0</td>\n",
       "      <td>1.0</td>\n",
       "      <td>0.0</td>\n",
       "    </tr>\n",
       "    <tr>\n",
       "      <th>4</th>\n",
       "      <td>0.0</td>\n",
       "      <td>0.333333</td>\n",
       "      <td>0.0</td>\n",
       "      <td>1.0</td>\n",
       "      <td>0.50</td>\n",
       "      <td>0.50</td>\n",
       "      <td>1.0</td>\n",
       "      <td>1.0</td>\n",
       "      <td>0.142857</td>\n",
       "      <td>0.0</td>\n",
       "      <td>...</td>\n",
       "      <td>0.0</td>\n",
       "      <td>0.25</td>\n",
       "      <td>0.75</td>\n",
       "      <td>0.75</td>\n",
       "      <td>0.25</td>\n",
       "      <td>0.0</td>\n",
       "      <td>0.0</td>\n",
       "      <td>0.0</td>\n",
       "      <td>1.0</td>\n",
       "      <td>0.0</td>\n",
       "    </tr>\n",
       "  </tbody>\n",
       "</table>\n",
       "<p>5 rows × 24 columns</p>\n",
       "</div>"
      ],
      "text/plain": [
       "   destination  passanger  weather  temperature  time  coupon  expiration  \\\n",
       "0          0.0   0.000000      0.0          0.5  0.50    0.00         1.0   \n",
       "1          0.0   0.333333      0.0          1.0  0.25    0.50         0.0   \n",
       "2          0.0   0.333333      0.0          1.0  0.25    1.00         1.0   \n",
       "3          0.0   0.333333      0.0          1.0  0.25    0.75         0.0   \n",
       "4          0.0   0.333333      0.0          1.0  0.50    0.50         1.0   \n",
       "\n",
       "   gender       age  maritalStatus  ...  Bar  CoffeeHouse  CarryAway  \\\n",
       "0     1.0  0.142857            0.0  ...  0.0         0.25       0.75   \n",
       "1     1.0  0.142857            0.0  ...  0.0         0.25       0.75   \n",
       "2     1.0  0.142857            0.0  ...  0.0         0.25       0.75   \n",
       "3     1.0  0.142857            0.0  ...  0.0         0.25       0.75   \n",
       "4     1.0  0.142857            0.0  ...  0.0         0.25       0.75   \n",
       "\n",
       "   RestaurantLessThan20  Restaurant20To50  toCoupon_GEQ15min  \\\n",
       "0                  0.75              0.25                0.0   \n",
       "1                  0.75              0.25                0.0   \n",
       "2                  0.75              0.25                0.0   \n",
       "3                  0.75              0.25                1.0   \n",
       "4                  0.75              0.25                0.0   \n",
       "\n",
       "   toCoupon_GEQ25min  direction_same  direction_opp    Y  \n",
       "0                0.0             0.0            1.0  1.0  \n",
       "1                0.0             0.0            1.0  0.0  \n",
       "2                0.0             0.0            1.0  1.0  \n",
       "3                0.0             0.0            1.0  0.0  \n",
       "4                0.0             0.0            1.0  0.0  \n",
       "\n",
       "[5 rows x 24 columns]"
      ]
     },
     "execution_count": 181,
     "metadata": {},
     "output_type": "execute_result"
    }
   ],
   "source": [
    "#气候数据归一化\n",
    "import numpy as np\n",
    "df = pd.read_csv(r\"处理后数据.csv\",index_col=0)\n",
    "for i in df.columns:\n",
    "    df[i] = df[[i]].apply(lambda x: (x - np.min(x)) / (np.max(x) - np.min(x)))#归一化\n",
    "df.head(5)"
   ]
  },
  {
   "cell_type": "markdown",
   "id": "a843eaf7",
   "metadata": {},
   "source": [
    "### 2、相关性分析"
   ]
  },
  {
   "cell_type": "code",
   "execution_count": 182,
   "id": "34e8fd88",
   "metadata": {},
   "outputs": [
    {
     "data": {
      "text/plain": [
       "destination            -0.117910\n",
       "passanger               0.049525\n",
       "weather                -0.093807\n",
       "temperature             0.056646\n",
       "time                    0.017346\n",
       "coupon                 -0.097371\n",
       "expiration              0.133131\n",
       "gender                  0.045261\n",
       "age                    -0.057399\n",
       "maritalStatus          -0.064993\n",
       "has_children           -0.048333\n",
       "education              -0.051840\n",
       "occupation             -0.005200\n",
       "income                 -0.028862\n",
       "Bar                     0.072649\n",
       "CoffeeHouse             0.112868\n",
       "CarryAway               0.036913\n",
       "RestaurantLessThan20    0.037051\n",
       "Restaurant20To50        0.073151\n",
       "toCoupon_GEQ15min      -0.081711\n",
       "toCoupon_GEQ25min      -0.100542\n",
       "direction_same          0.014361\n",
       "direction_opp          -0.014361\n",
       "Y                       1.000000\n",
       "Name: Y, dtype: float64"
      ]
     },
     "execution_count": 182,
     "metadata": {},
     "output_type": "execute_result"
    }
   ],
   "source": [
    "df.corr()[\"Y\"]"
   ]
  },
  {
   "cell_type": "markdown",
   "id": "719edac4",
   "metadata": {},
   "source": [
    "### 3、Lasso回归"
   ]
  },
  {
   "cell_type": "code",
   "execution_count": 194,
   "id": "d1ffdbfa",
   "metadata": {},
   "outputs": [
    {
     "name": "stdout",
     "output_type": "stream",
     "text": [
      "根据lasso回归，选取在alpha=0.01时模型回归系数不0等于的特征\n",
      "destination ： -0.0834874819427352\n",
      "weather ： -0.042877916893072666\n",
      "coupon ： -0.06452261967988\n",
      "expiration ： 0.1048760335778751\n",
      "gender ： 0.0067590980285915595\n",
      "has_children ： -0.00570805933674969\n",
      "CoffeeHouse ： 0.0785593804307396\n",
      "toCoupon_GEQ15min ： -0.024226950556431252\n"
     ]
    }
   ],
   "source": [
    "from sklearn.linear_model import Lasso\n",
    "x = df[df.columns[:-1]]\n",
    "y = df[df.columns[-1]]\n",
    "lr=Lasso(alpha=0.01)\n",
    "lr.fit(x,y)\n",
    "print(\"根据lasso回归，选取在alpha=0.01时模型回归系数不0等于的特征\")\n",
    "for i in lr.coef_.tolist():\n",
    "    if i!=0:\n",
    "        print(df.columns[lr.coef_.tolist().index(i)],\"：\",i)"
   ]
  },
  {
   "cell_type": "markdown",
   "id": "aeed9528",
   "metadata": {},
   "source": [
    "## 三、SVM-ANN混合预测模型"
   ]
  },
  {
   "cell_type": "markdown",
   "id": "f1e7b817",
   "metadata": {},
   "source": [
    "### 1、模型解释"
   ]
  },
  {
   "cell_type": "markdown",
   "id": "5016de34",
   "metadata": {},
   "source": [
    "本文选取\"destination\",\"weather\",\"coupon\",\"expiration\",\"gender\",\"has_children\",\"CoffeeHouse\",\"toCoupon_GEQ15min\"等字段作为输入，Y字段作为输出；首先使用sklearn模块分别训练SVM和ANN模型，然后根据其预测结果训练梯度提升树（GradientBoostingClassifier）以产生最终输出。关键步骤是从测试集上的基本模型生成预测，然后使用这些预测作为输入特征来训练元模型。"
   ]
  },
  {
   "cell_type": "markdown",
   "id": "5349ab68",
   "metadata": {},
   "source": [
    "### 2、SVM-ANN混合模型"
   ]
  },
  {
   "cell_type": "code",
   "execution_count": 276,
   "id": "416b7be8",
   "metadata": {},
   "outputs": [],
   "source": [
    "from sklearn.model_selection import train_test_split\n",
    "import warnings\n",
    "warnings.filterwarnings('ignore')\n",
    "\n",
    "#划分数据集\n",
    "X = df[[\"destination\",\"weather\",\"coupon\",\"expiration\",\"gender\",\"has_children\",\"CoffeeHouse\",\"toCoupon_GEQ15min\"]]#自变量\n",
    "Y = df[[\"Y\"]]#因变量\n",
    "X_train,X_test,Y_train,Y_test = train_test_split(X,Y,test_size=0.3)\n",
    "\n",
    "#建立SVM和ANN模型\n",
    "from sklearn.svm import SVC\n",
    "from sklearn.neural_network import MLPClassifier\n",
    "svm = SVC()\n",
    "ann = MLPClassifier(solver=\"adam\",hidden_layer_sizes=10)\n",
    "#训练模型\n",
    "svm.fit(X_train,Y_train)\n",
    "ann.fit(X_train,Y_train,)\n",
    "#预测\n",
    "svm_pre = svm.predict(X_test)\n",
    "ann_pre = ann.predict(X_test)\n",
    "\n",
    "#模型混合\n",
    "blender = np.vstack((svm_pre,ann_pre)).T\n",
    "blender_target = Y_test\n",
    "from sklearn.ensemble import GradientBoostingClassifier\n",
    "gb = GradientBoostingClassifier(n_estimators=10)#迭代次数10\n",
    "gb.fit(blender,blender_target)\n",
    "final_pre = gb.predict(blender)"
   ]
  },
  {
   "cell_type": "markdown",
   "id": "12651ae4",
   "metadata": {},
   "source": [
    "### 3、模型精度"
   ]
  },
  {
   "cell_type": "code",
   "execution_count": 277,
   "id": "ffcd7a12",
   "metadata": {},
   "outputs": [
    {
     "name": "stdout",
     "output_type": "stream",
     "text": [
      "              precision    recall  f1-score   support\n",
      "\n",
      "         0.0       0.64      0.42      0.51      1544\n",
      "         1.0       0.66      0.83      0.73      2080\n",
      "\n",
      "    accuracy                           0.65      3624\n",
      "   macro avg       0.65      0.62      0.62      3624\n",
      "weighted avg       0.65      0.65      0.64      3624\n",
      "\n"
     ]
    }
   ],
   "source": [
    "from sklearn.metrics import classification_report\n",
    "print(classification_report(Y_test,final_pre))"
   ]
  },
  {
   "cell_type": "markdown",
   "id": "32834b52",
   "metadata": {},
   "source": [
    "### 4、k倍交叉验证"
   ]
  },
  {
   "cell_type": "code",
   "execution_count": 278,
   "id": "94d67c3b",
   "metadata": {},
   "outputs": [
    {
     "data": {
      "text/plain": [
       "0.8802413892820724"
      ]
     },
     "execution_count": 278,
     "metadata": {},
     "output_type": "execute_result"
    }
   ],
   "source": [
    "from sklearn.model_selection import cross_val_score\n",
    "cross_val_scores = cross_val_score(gb,X_test,final_pre,cv=10)#10折交叉验证\n",
    "cross_val_scores.mean()"
   ]
  },
  {
   "cell_type": "markdown",
   "id": "adaaebb1",
   "metadata": {},
   "source": [
    "根据10折交叉验证结果显示，模型模型性能比较稳定"
   ]
  },
  {
   "cell_type": "markdown",
   "id": "4138171a",
   "metadata": {},
   "source": [
    "### 5、正则化评估"
   ]
  },
  {
   "cell_type": "code",
   "execution_count": 279,
   "id": "57628c24",
   "metadata": {},
   "outputs": [],
   "source": [
    "from sklearn.model_selection import GridSearchCV\n",
    "params = {\"alpha\":[0.1,1,10]}#L2正则化系数\n",
    "grid = GridSearchCV(ann,params,cv=10)\n",
    "grid.fit(X_train,Y_train)\n",
    "grid_pre = grid.predict(X_test)"
   ]
  },
  {
   "cell_type": "markdown",
   "id": "8ce00616",
   "metadata": {},
   "source": [
    "通过不同的L2惩罚（正则化项）参数来优化模型准确性"
   ]
  },
  {
   "cell_type": "code",
   "execution_count": 280,
   "id": "6075324f",
   "metadata": {},
   "outputs": [],
   "source": [
    "blender1 = np.vstack((svm_pre,grid_pre)).T\n",
    "blender_target1 = Y_test\n",
    "\n",
    "gb1 = GradientBoostingClassifier()\n",
    "gb1.fit(blender1,blender_target1)\n",
    "final_pre1 = gb.predict(blender1)"
   ]
  },
  {
   "cell_type": "code",
   "execution_count": 281,
   "id": "0e55e2dc",
   "metadata": {},
   "outputs": [
    {
     "name": "stdout",
     "output_type": "stream",
     "text": [
      "              precision    recall  f1-score   support\n",
      "\n",
      "         0.0       0.64      0.42      0.51      1544\n",
      "         1.0       0.66      0.83      0.73      2080\n",
      "\n",
      "    accuracy                           0.65      3624\n",
      "   macro avg       0.65      0.62      0.62      3624\n",
      "weighted avg       0.65      0.65      0.64      3624\n",
      "\n"
     ]
    }
   ],
   "source": [
    "#模型精度\n",
    "print(classification_report(Y_test,final_pre1))"
   ]
  },
  {
   "cell_type": "code",
   "execution_count": 282,
   "id": "a70bee0b",
   "metadata": {},
   "outputs": [
    {
     "data": {
      "text/plain": [
       "0.9489384046390577"
      ]
     },
     "execution_count": 282,
     "metadata": {},
     "output_type": "execute_result"
    }
   ],
   "source": [
    "cross_val_scores = cross_val_score(gb1,X_test,final_pre1,cv=10)#10折交叉验证\n",
    "cross_val_scores.mean()"
   ]
  },
  {
   "cell_type": "markdown",
   "id": "a985b795",
   "metadata": {},
   "source": [
    "根据以上结果可以看出，通过不同的L2惩罚（正则化项）参数来优化模型后，对模型准确率变化不大，对稳定性有一定程度的提高。"
   ]
  },
  {
   "cell_type": "markdown",
   "id": "ccb62713",
   "metadata": {},
   "source": [
    "### 6、改变超参数"
   ]
  },
  {
   "cell_type": "markdown",
   "id": "f0235d11",
   "metadata": {},
   "source": [
    "首先我们从步长(learning rate)和迭代次数(n_estimators)入手。一般来说,开始选择一个较小的步长来网格搜索最好的迭代次数。这里，我们将步长初始值设置为0.1。对于迭代次数进行网格搜索如下："
   ]
  },
  {
   "cell_type": "code",
   "execution_count": 283,
   "id": "cba83946",
   "metadata": {},
   "outputs": [
    {
     "data": {
      "text/plain": [
       "({'n_estimators': 20}, 0.6351623043218917)"
      ]
     },
     "execution_count": 283,
     "metadata": {},
     "output_type": "execute_result"
    }
   ],
   "source": [
    "param_test1 = {'n_estimators':range(20,81,10)}\n",
    "gsearch1 = GridSearchCV(estimator = GradientBoostingClassifier(learning_rate=0.1, min_samples_split=300,\n",
    "                                  min_samples_leaf=20,max_depth=8,max_features='sqrt', subsample=0.8,random_state=10), \n",
    "                       param_grid = param_test1, scoring='roc_auc',cv=5)\n",
    "gsearch1.fit(blender,blender_target)\n",
    "gsearch1.best_params_, gsearch1.best_score_"
   ]
  },
  {
   "cell_type": "markdown",
   "id": "efaae8c9",
   "metadata": {},
   "source": [
    "可见最好的迭代次数是20"
   ]
  },
  {
   "cell_type": "code",
   "execution_count": 284,
   "id": "20f2fda5",
   "metadata": {},
   "outputs": [],
   "source": [
    "gb = GradientBoostingClassifier(n_estimators=50)\n",
    "gb.fit(blender,blender_target)\n",
    "final_pre = gb.predict(blender)"
   ]
  },
  {
   "cell_type": "code",
   "execution_count": 285,
   "id": "7894c6ab",
   "metadata": {},
   "outputs": [
    {
     "name": "stdout",
     "output_type": "stream",
     "text": [
      "              precision    recall  f1-score   support\n",
      "\n",
      "         0.0       0.64      0.42      0.51      1544\n",
      "         1.0       0.66      0.83      0.73      2080\n",
      "\n",
      "    accuracy                           0.65      3624\n",
      "   macro avg       0.65      0.62      0.62      3624\n",
      "weighted avg       0.65      0.65      0.64      3624\n",
      "\n"
     ]
    }
   ],
   "source": [
    "print(classification_report(Y_test,final_pre))"
   ]
  },
  {
   "cell_type": "code",
   "execution_count": 286,
   "id": "24c35583",
   "metadata": {},
   "outputs": [
    {
     "data": {
      "text/plain": [
       "0.9345912667610307"
      ]
     },
     "execution_count": 286,
     "metadata": {},
     "output_type": "execute_result"
    }
   ],
   "source": [
    "cross_val_scores = cross_val_score(gb,X_test,final_pre,cv=10)#10折交叉验证\n",
    "cross_val_scores.mean()"
   ]
  },
  {
   "cell_type": "markdown",
   "id": "843bcbdd",
   "metadata": {},
   "source": [
    "根据以上结果看出，将模型迭代次数改为20，对稳定性有一定程度的提高。"
   ]
  },
  {
   "cell_type": "code",
   "execution_count": null,
   "id": "bc6d980c",
   "metadata": {},
   "outputs": [],
   "source": []
  }
 ],
 "metadata": {
  "kernelspec": {
   "display_name": "Python 3",
   "language": "python",
   "name": "python3"
  },
  "language_info": {
   "codemirror_mode": {
    "name": "ipython",
    "version": 3
   },
   "file_extension": ".py",
   "mimetype": "text/x-python",
   "name": "python",
   "nbconvert_exporter": "python",
   "pygments_lexer": "ipython3",
   "version": "3.8.8"
  },
  "toc": {
   "base_numbering": 1,
   "nav_menu": {},
   "number_sections": false,
   "sideBar": true,
   "skip_h1_title": false,
   "title_cell": "Table of Contents",
   "title_sidebar": "Contents",
   "toc_cell": false,
   "toc_position": {
    "height": "calc(100% - 180px)",
    "left": "10px",
    "top": "150px",
    "width": "165px"
   },
   "toc_section_display": true,
   "toc_window_display": true
  }
 },
 "nbformat": 4,
 "nbformat_minor": 5
}
